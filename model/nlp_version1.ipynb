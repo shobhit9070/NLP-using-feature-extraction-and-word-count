{
 "cells": [
  {
   "cell_type": "code",
   "execution_count": 19,
   "metadata": {},
   "outputs": [],
   "source": [
    "import nltk\n",
    "from nltk.corpus import twitter_samples\n",
    "import random\n",
    "import numpy as np\n",
    "import pandas as pd"
   ]
  },
  {
   "cell_type": "code",
   "execution_count": 20,
   "metadata": {},
   "outputs": [
    {
     "name": "stdout",
     "output_type": "stream",
     "text": [
      "['  \\n', \"ï»¿it's extremely effective . \\n\", 'offers that rare combination of entertainment and education . \\n', 'a masterpiece four years in the making . \\n', \"the movie's ripe , enrapturing beauty will tempt those willing to probe its inscrutable mysteries . \\n\", 'offers a breath of the fresh air of true sophistication .\\n', 'funny but perilously slight . \\n', \"overall very good for what it's trying to do . \\n\", \"it's a charming and often affecting journey . \\n\", 'psychologically savvy . \\n', 'for movie lovers as well as opera lovers , tosca is a real treat . \\n', 'unflinchingly bleak and desperate\\n', 'one from the heart . \\n', \"more concerned with sade's ideas than with his actions . the movie achieves as great an impact by keeping these thoughts hidden as . . . [quills] did by showing them . \\n\", 'an entertaining , colorful , action-filled crime story with an intimate heart . \\n', \"while undisputed isn't exactly a high , it is a gripping , tidy little movie that takes mr . hill higher than he's been in a while . \\n\", 'the most compelling wiseman epic of recent years .\\n', 'very psychoanalytical -- provocatively so -- and also refreshing\\n', 'a good piece of work more often than not .\\n', 'fun and nimble .\\n', 'funny and touching . \\n', 'poignant and delicately complex . \\n', 'there is truth here\\n', 'it is definitely worth it\\n', 'lightweight but appealing . \\n', 'Totally agree! may her soul rest in peace n hope justice knocks her door sooner! \\n', 'Created over 8,000 jobs for local youth of Kargil, Leh since 2017: KVIC\\n', \"Fast track courts and capital punishment within two months for the perpetrators of Nikita Murder Case is the only way to prevent more victims like Nikita. men'\\n\", \"Haryana Police provides security and arms license to Nikita Tomar's Family.\\n\", 'totally agree! may her soul rest in peace n hope justice knocks her door sooner! \\n', 'Time to confront radicals worldwide. Need for freedom loving &amp; democratic forces to unite &amp; exterminate terror.  \\n', 'terrorism should be stopped forever . \\n', 'all lives matter, save black lives .do good earn good. \\n', 'bycott terrorism.. Time to get united &amp; eradicate this evil from the world &amp; make it a better place to live. \\n', 'World is a better place foe humans.\\n', 'good to see their true colours Bangladeshi are also exposed now along with Pakistan Another country will unite.  \\n', 'Strict immigration may be the only way to minimize the risk of extremists infiltrating your country.\\n', \"Condolences to the loved ones. My thoughts and prayers with their families. terrorism won't win the world, we will not allow. \\n\", \"Life is sacred . As a being I  respect all beliefs.The world shoul save Islam from Erdogan's hands. \\n\", 'I am a person and I condemn all forms of terrorism especially on innocent civilians.\\n', 'Rethink policies; accept the bitter reality. Take the bull(s)  by the horns before it is too late. \\n', \"Mankind must remember that peace is not God's gift to his creatures; peace is our gift to each other.  \\n\", 'The world is witnessing what Secularism and Peaceful means. \\n', 'Praying for the safety of the hostages in Hilton and other places.\\n', 'Its time to eliminate the breathing grounds of radical terrorist communities from the planet together. \\n', 'Stay strong Austria! Stay strong Europe.\\n', 'Prayers for everyone affected by the dastardly terrorist attack in Vienna   We stand in solidarity with the people.\\n', 'The world endures a lot. Not because of the unrest of bad people but because of the silence of good people\" \\n', 'This is an interesting encapsulation of slogans of all American Presidents \\n', 'US is going to  polls on Nov 3rd Tuesday..  Who will win the Presidency? \\n', 'I wish joe Biden to claim victory  to US. \\n', 'It Is NOT Almost Over US Elections 2020.\\n', '100 hours to go for poll in US ..... Donald Trump is still favourable to India as compared to Biden ...Biden is leading a way long ...New journey, new relations to be started ....Hoping for the best.\\n', 'Am I reading this correct in saying the most frequently occurring outcome in these simulation models is ~410 votes for Biden? \\n', \"That's the true identity of Americans; if you prefer softer/diplomatic replies, vote JoeBiden.\\n\", \"I still have the feeling Trump's gonna win this \\n\", 'I have cast my vote God bless  America a land of Opportunities for all.\\n', 'God help America indeed. \\n', 'Gotta go buy some bear for the election night! \\n', 'When Court granted bail to Steve Bannon recently did they realise Bannon is most probably a HOBO? \\n', 'As simple as that.\\n', 'My support is to KamalaHarris  and JoeBiden even though i like Donald Trump ...\\n', 'Let the best man win ...\\n', 'If the US Elections 2020 is still divided almost by half, then the US deserves  real DonaldTrump\\n', \"Not saying I'm a massive fan, but Trump2020 will win.\\n\", 'Really Powerful leader. VOTE BidenHarris.\\n', 'JoeBiden Shows his physical fitness with short runs while climbing on podiums. \\n', 'Gonna be an interesting week for the markets! \\n', 'realDonaldTrump This is biblical here everyone &amp; Truly Awesome for my Dear President Donald J Trump! 88885555\\n', \"Trump Touts Georgia Gov. Kemp's Falling Approval, Presses Him to 'Take Charge' and 'See the Light' https://t.co/tZjgQfEkCC\\n\", 'EricTrump Trump didnâ€™t know and neither did the experts. A lot of things have changed since May. Iâ€™m sure Donald sâ€¦ https://t.co/mkJbG0i5jH\\n', 'Donald Trump fires the head of Cyber Security at DHS for publicly stating the election was completely secure. And the GOP juâ€¦\\n', 'Tonight Iâ€™m calling for the eventual prosecution of donald trump and his enablers for their many crimes against the Uniteâ€¦\\n', 'In new intv with me, @GaSecofState says 24,000 GOPs who voted absentee in primary did not vote in General - says Donaldâ€¦\\n', 'Crime Prosecution Cycles Thread 10/10\\n', 'Donald Trump will go to prison. I promise you that. Most of his Trumpomobsters willâ€¦\\n', \"DonaldJTrumpJr FUN FACT: Don, Jr.'s daddy is a draft dodger. And when word got to Donald and Ivana Trump that Don, Jr. miâ€¦\\n\", \"This essay by Ivanka Trump's former bff is fascinating, though I can still taste the bile in the my mouth after this line aboâ€¦\\n\", 'realDonaldTrump I just watched a news clip where a women pregnant with twins is begging that her husband survive Câ€¦ https://t.co/rbqdhNAZn2\\n', '\\n', '\\n', 'Too often we expect from others what we alone can give ourselves Paula Finn inspirationalquotes d\\n', '  In facing our worst fears we learn that things aren t as bad as we thought and that we are much stronger than\\n', '  With Faith You can move a mountain reach a star and survive the longest night knowing without a doubt that tom\\n', '  Goals for Today Do something nice for someone without resentment Do something nice for yourself without guilt Pa\\n', '  May millions of lamps illuminate your life with joy prosperity and wealth HappyDiwali HappyDeepavali Di\\n', 'May millions of lamps illuminate your life with joy prosperity and wealth HappyDiwali HappyDeepavali\\n', '  Give yourself freedom to feel what you feel to think what you think to be who you are and to express it without s\\n', '  You deserve the best a home that comforts and uplifts you work that fits and affirms you and relationships that\\n', '  Friendship is a place of honesty and trust where hopes and dreams are shared and encouraged where fears and faults a\\n', '  Ego is just like a dust in the eyes without clearing the dust you can t see anything clearly so clear the ego and see\\n', 'Ego is just like a dust in the eyes without clearing the dust you can t see anything clearly so clear the ego\\n', '  A friend is never too busy to respond to our smallest and greatest needs to give the emotional support that makes u\\n', '  This day is yours to make the choices that strengthen your character to follow the dreams that inspire your soul t\\n', '  A friend always understands They look behind our words to appreciate their deeper meanings sensing what s on our min\\n', '  The greatest comfort of friendship is acceptance We celebrate the best in each other while forgiving the flawed Thro\\n', '  Friendships come in many different sizes shapes and colors From each we can learn From each we will grow Paula\\n', '  Take responsibility for your own life Design it lovingly direct it wisely and live it passionately Paula Finn\\n', '  Set a goal for each day to make time just for you to read reflect and renew to find healing in silence and comfo\\n', '  Spend each moment mindful of what you do truthful in what you say and thankful for what you have Paula Finn\\n', '  Even the most trying time can be made easier when approached with an open mind a patient heart and a determined spi  Success is nothing without someone you love to share it with Billy D Williams quote\\n', '  For the children they mark and the children they know The place where the sidewalk ends\\n', '  Yes we ll walk with a walk that is measured and slow And we ll go where the chalk white arrows go\\n', '  And watch where the chalk white arrows go To the place where the sidewalk ends\\n', '  Past the pits where the asphalt flowers grow We shall walk with a walk that is measured and slow\\n', '  Let us leave this place where the smoke blows black And the dark street winds and bends\\n', '  And there the moon bird rests from his flight To cool in the peppermint wind\\n', '  And there the grass grows soft and white And there the sun burns crimson bright\\n', '  There is a place where the sidewalk ends And before the street begins\\n', '  Where the Sidewalk Ends by Shel Silverstein\\n', 'Staying positive is all in your head PositiveTweets\\n', '  Popsicles melting down your hand on a hot summer day SweetNostalgia\\n', 'Everyday is a new opportunity to make someone smile PositiveTweets\\n', '  A dream is the bearer of a new possibility the enlarged horizon the great hope Howard Thurman q\\n', 'Try and fail but don t fail to try Stephen Kaggwa\\n', 'The best way to destroy an enemy is to make him a friend Abraham Lincoln\\n', 'Find something you love to do and you ll never have to work a day in your life PositiveTweets\\n', 'Whatever you are be a good one Abraham Lincoln PositiveTweets\\n', 'The future depends on what we do in the present Mahatma Gandhi PositiveTweets\\n', 'Never regret If it s good it s wonderful If it s bad it s experience Victoria Holt PositiveTweets I have faith that God is living out a divine plan through me Have faith in God Mark 11 22\\n', 'Love can melt the hardest heart heal the wounds of the broken heart and quiet the fears of the anxious heart\\n', 'God will never lead you wrong\\n', 'True\\n', 'Now faith is being sure of what we hope for amp certain of what we do not see Heb 11 1\\n', 'True\\n', 'God never leads us where He cannot keep us His grace is always sufficient for us in any and every circumstance of life\\n', 'Be Happy\\n', '5 Rules of Happiness 1 Don t Hate 2 Don t Worry 3 Give More 4 Expect Less 5 Live Simply\\n', 'Now faith is being sure of what we hope for amp certain of what we do not see Heb 11 1\\n', 'Be positive stay happy amp don t let the negativity of the world get you down\\n', 'Be a kind person in world full of negative people\\n', 'TheHappyQuote quote positive bible quotes love God hope faith peace blessed\\n', 'Speak kind words or stay silent This world is filled with enough negative energy Think before you speak Simple\\n', 'The secret of happiness is to count your blessings while others are adding up their troubles\\n', '\\n', 'I hope you all had a blessed day\\n', '\\n', 'Smile often\\n', 'People should always pray and not give up Luke 18 1 A simple rule\\n', '  If you want to feed a problem keep thinking about it If you want to starve a problem take action\\n', '  You have to know who and when to help Don t help people that want you to solve their problems for them Help people\\n', 'Hobby vs passion\\n', 'Stay positive\\n', 'You re the topic\\n', 'The quality of your thoughts\\n', '  Defensiveness refusing to take blame and feeling the need to win are often mistaken as a sign of someone s strength\\n', 'That gut feeling\\n', 'Stay patient\\n', '  You ll never have your whole life figured out Your future will always be uncertain unclear and unpredictable And t\\n', '\\n', '  Never trade your happiness for a career money external validation popularity or status The ultimate goal is happi\\n', 'A good leader\\n', 'Making mistakes\\n', '  We re all actors unconsciously acting out the stories we told ourselves about ourselves long ago\\n', '  A good idea isn t the hard part having the skills to execute on that good idea is the hard part Therefore having\\n', 'Progress\\n', '  Live in accordance with your outside world and you ll soon find misery Live in accordance with your inside world and\\n', 'Move on   The greatest discipline in personal finance is not using tomorrow s income for today s consumption\\n', '  In life you ll realize that there is a purpose for every person you meet Some will teach you and some will bring out the best\\n', '  Loan is what we see House car and social media photos of vacations Wealth is what we don t see Bank shares and mutual f\\n', '  More the ignorance more the ego More the wisdom more the humility\\n', '  No need to be excited even if you have hundred ideas Get excited only when you can execute an idea\\n', '  80 of the time it s not that a person changed you just never knew who they actually were\\n', '  You usually argue with those you care about People avoid fights completely when they re no longer interested emotionally\\n', '  You own the job and your employer owns you\\n', '\\n', '\"Hi Don if your father \\'loses\\' we think it is much more intâ€¦\\n', \" la secrÃ©taire d'Ã‰tat de l'Arizona menacÃ©e aprÃ¨s la validation des rÃ©sultats \\n\", ' Biden has already set a record for the highest number of votes for a winning presid\\n', ' When the count is complete, Democrat Joe Biden will likely have racked up around 80 million votes - and won the White House\\n', ' The correspondence was first reported in TheAtlantic by juliaioffe and later confirmed by Don Jr.\\n', ' Tonight Iâ€™m calling for the eventual prosecution of donald trump and his enablers for their many crimes against the Uniteâ€¦\\n', 'BREAKING Analysts worry about mental state of US ruler, Donald Trump, after he tweets his own claims of election fraud are \"uâ€¦\\n', \"If you haven't watched this, you're missing out. This is precisely how the election was stolen, among other means.\\n\", 'President Donald Trump and first lady Melania Trump will be spending Thanksgiving at the White House instead of att\\n', 'Trump nominee confirmed as federal judge in Florida despite no trials since passing the bar \\n', \"This Republican belief is straight out of Mein Kampf, chapter 10. More commonly known as the 'Big Lie tâ€¦ \\n\", 'Why is Joe Biden not filing a action against the Administrator of GSA demanding she authorize the transition process? It isâ€¦\\n', 'Managers At A Tyson Pork Plant Placed Bets On How Many Workers Would Get COVID-19, A Lawsuit Alleges. Tyson Foods argueâ€¦\\n', \"Tonight's LastThingBeforeWeGo? Trump breaks another campaign promise.\\n\", 'AlJazeera can you give me real journalism so much anti Trump bias. Give me a link showing otherwise. Biden (cont) \\n', \"Update: as more Michigan counties have certified and reported to the Secretary of State, Biden's margin of victory (154,187â€¦\\n\", \"It's hilarious that Trump is pissed that Biden will get credit for the Covid vaccine considering that Trump took credit forâ€¦\\n\", 'Wayne was supporting Trump now he might face 10 years smh look at life\\n', 'Trump is hiding at the White House again. No public appearance since last week. He has barely made a public appearance siâ€¦\\n', 'Trumpâ€™s tweets are becoming increasingly frantic and deranged. Heâ€™s a danger to the republic.\\n', 'DruggyBear guypbenson LOL. It wasnâ€™t the party of Trump burning &amp; looting cities for 8 months, no matter how hard you try to spin it\\n', 'RT TheRealHoarse: Failing to prosecute Trump after he leaves office would be as much an assault on the rule of law as his crimes were.\\n', '\\n', '\\n', '<<<<<<< HEAD\\n', 'An Artist,Soldier and Sportsperson what they crave for is appreciation, that their hard work and sacrifice\\n', 'A little help always goes a long way specially when u realise itâ€™s a big vehicle\\n', 'A bit of hugging,training, catching practice and getting unconditional love\\n', \"I'm looking forward to when people can have unlimited connections on Facebook soon!\\n\", 'Yeah, looks like marginal cost of launch will be less than $1M\\n', 'Cut the noise of rumours while Investing\\\\n#investrighttohfuturebright\\n', 'Sebi directs BSE to review IPF corpus annually\\n', 'Entering into deals with unregistered brokers can get you into trouble\\n', 'Sensex opens at 44095 with a gain of 457 points.\\n', 'No one is born hating another person because of the color of his skin or his background or his religion.\\n', 'IM OFFICIALLY CANCER FREE !!!\\n', 'November could be the best month to visit Argentina .\\n', 'WHO has been assessing this outbreak around the clock and we are deeply concerned both by the alarming levels of spread and severity, and by the alarming levels of inaction\\n', 'Democrats or Republicans, politics apart, we are happy and proud to have in someone of Indian origin as the Vice President of America.\\n', 'Hearty congratulations to the team at isro behind the successful launch of #PSLVC49, carrying #E0S01 and nine international customer satellites. My best wishes to the scientists for their future endeavours.\\n', \"India's one of the strongest leaders ever. First woman Prime Minister of India. The longest serving woman PM in world.\\n\", 'Healthy Choice is committed to bringing you delicious foods made with quality ingredients right from the start that help fuel a healthy lifestyle.\\n', 'Start by doing what is necessary, then what is possible, and suddenly you are doing the impossible.\\n', 'Caffeine (in coffee, tea & sodas) blocks a brain chemical called adenosine that helps you sleep.\\n', 'Work to consume 5-7 servings of vegetables a day. The phytonutrients, vitamins, and minerals in these plants will help you enjoy a healthy and vibrant life.\\n', 'These sweet girls gave up a few hours of their Friday night to help volunteers put meal bags together for families in need in our community.\\n', 'The only way to instill change, is to instill action.\\n', 'So thankful for those who have served this great country!  The finest country on earth, because of you! Happy Veterans Day!\\n', 'Serve w/excellence in ordinary places.Serving ordinary people w/no agenda other than to be of service. \\n', '\\n', '\\n', '\\n', '=======\\n', '<<<<<<< HEAD\\n', '\\n', 'If we were protons, this would have been our Time-Machine \\n', 'Right from exploring the local tourist attractions to experiencing the culture from a closer lens,it was just perfect.\\n', 'It is extremely heartening to see soo many of you coming out and sharing your experience with mental illness.\\n', \"Men have emotions too so don't be shy to cry.  It's okay to let it out and not hold it inside. It's not a weakness.\\n\", 'One gaze, one smile, one gesture - a million feelings in a million hearts.\\n', 'Itâ€™s times like these you value love in friendships.\\n', 'Donâ€™t lose hope, we will get through this through faith.\\n', 'Itâ€™s times like this itâ€™s humbling and good to look back, take a breath, and remember the good old days! \\n', 'we have the tools to stop the situation from getting really bad.\\n', 'when unworthy and undeserving gets the power they donâ€™t heal they only hurt\\n', \"It's a safe and secure way to shape the future of our country.\\n\", 'Congratulations to President-Elect Biden and Vice President-Elect Harris.\\n', 'Congrats on your first vote, Dewey! It will make a difference.\\n', 'Thank you for votingâ€”and thank you for staying hopeful.\\n', 'The USA stands proud!\\n', 'Feed your immune system through a balanced diet and a complete supplement.\\n', 'A real hero never stops protecting oneself, so that others stay protected.\\n', 'Real fun is in a real challenge.\\n', 'A timeless clsasic in a world of trends.\\n', \"That Monday morning feeling when you realise it's a holiday!\\n\", \"May you be the source of joy & light in someone's life today.\\n\", 'In a dynamic environment.... itâ€™s best to ensure safety.\\n', 'Awesome .... Hare Rama, Hare Krishna... like I always say, we donâ€™t choose them, they choose us.\\n', \"Let's hear the words of these children and take a pledge on #JalPratigyaDiwas to uphold hygiene and conserve water.\\n\", '=======\\n', 'Having courage is a beautiful thing.\\n', 'Governor Kemp will hopefully see the light.\\n', 'When we build back better, we will do so with higher wages â€” including a $15 minimum wage â€” better benefits and stronger collective bargaining rights that you can raise a family on.\\n', 'Today, we honor the service of those who have worn the uniform of the Armed Forces of the United States. \\n', 'We are going to build a health care system that puts you and your family first â€” and that every American can be proud of.\\n', \"Today's news of a second vaccine is further reason to feel hopeful. \\n\", 'We will not leave you to face these challenges alone.\\n', 'Weâ€™re ready to get COVID-19 under control so that we can reopen our businesses and schools safely, resume our lives, and put this pandemic behind us.\\n', 'We may be opponents â€” but we are not enemies.\\n', 'No one is going to take our democracy away from us. Not now, not ever.\\n', 'Thereâ€™s still so much work to do to make our communities safe and supportive for everybody.\\n', 'May the sacred occasion of Deepavali bring positivity and brightness to everyoneâ€™s life. \\n', 'Had an excellent conversation with DG of WHO DrTedros.\\n', 'Congratulations JoeBiden on your spectacular victory!.\\n', 'Thank you for votingâ€”and thank you for staying hopeful.\\n', 'Had a wonderful interaction with Shahzada Husain Burhanuddin.\\n', 'Inaugurated sea plane services between Ahmedabad and Kevadia. This service will boost tourism and help the local economy.\\n', 'Be it in the civil services or beyond, energy, creativity and freshness are very important.\\n', 'As vital as energy conservation is water conservation. \\n', 'Bihar deserves good governance. \\n', 'My heartiest congratulations to the PM of New Zealand jacindaardern on her resounding victory.\\n', 'For a long time, our focus in the agriculture sector remained only on productivity.\\n', 'Lal Bahadur Shastri Ji was humble and firm. He epitomised simplicity and lived for the welfare of our nation.\\n', 'The nation is proud of our young volunteers who have created huge positive impact in the society through their selfless social services. \\n', 'It is our great privilege to work for the welfare of our farmers.']\n"
     ]
    }
   ],
   "source": [
    "pos_tweets = open(\"tweets.json\",\"r\")\n",
    "positive_tweets_list = []\n",
    "for tweet in pos_tweets:\n",
    "    positive_tweets_list.append(tweet)\n",
    "print(positive_tweets_list)"
   ]
  },
  {
   "cell_type": "code",
   "execution_count": 21,
   "metadata": {},
   "outputs": [
    {
     "name": "stdout",
     "output_type": "stream",
     "text": [
      "[\"\\ufeffif sinise's character had a brain his ordeal would be over in five minutes but instead the plot goes out of its way to introduce obstacles for him to stumble over . \\n\", 'too slow for a younger crowd , too shallow for an older one . \\n', 'there\\'s a reason the studio didn\\'t offer an advance screening . \" the adventures of pluto nash \" is a big time stinker . \\n', 'a punch line without a premise , a joke built entirely from musty memories of half-dimensional characters . \\n', \"takes one character we don't like and another we don't believe , and puts them into a battle of wills that is impossible to care about and isn't very funny . \\n\", \"the things this movie tries to get the audience to buy just won't fly with most intelligent viewers . \\n\", \"even if the enticing prospect of a lot of nubile young actors in a film about campus depravity didn't fade amid the deliberate , tiresome ugliness , it would be rendered tedious by avary's failure to construct a story with even a trace of dramatic interest . \\n\", 'sitting through the last reel ( spoiler alert ! ) is significantly less charming than listening to a four-year-old with a taste for exaggeration recount his halloween trip to the haunted house . \\n', 'confuses its message with an ultimate desire to please , and contorting itself into an idea of expectation is the last thing any of these three actresses , nor their characters , deserve . \\n', 'deadly dull , pointless meditation on losers in a gone-to-seed hotel . \\n', 'with this new rollerball , sense and sensibility have been overrun by what can only be characterized as robotic sentiment . \\n', \"one can only assume that the jury who bestowed star hoffman's brother gordy with the waldo salt screenwriting award at 2002's sundance festival were honoring an attempt to do something different over actually pulling it off\\n\", \"a movie more to be prescribed than recommended -- as visually bland as a dentist's waiting room , complete with soothing muzak and a cushion of predictable narrative rhythms . \\n\", 'sex ironically has little to do with the story , which becomes something about how lame it is to try and evade your responsibilities and that you should never , ever , leave a large dog alone with a toddler . but never mind all that ; the boobs are fantasti\\n', \"the script covers huge , heavy topics in a bland , surfacey way that doesn't offer any insight into why , for instance , good things happen to bad people . \\n\", 'a portrait of alienation so perfect , it will certainly succeed in alienating most viewers . \\n', 'the code talkers deserved better than a hollow tribute . \\n', 'skip the film and buy the philip glass soundtrack cd . \\n', 'feels like a cold old man going through the motions . \\n', 'simplistic , silly and tedious . \\n', 'interesting , but not compelling . \\n', \"RahulGandhi has ignored Nikita Tomar's love jihad case the same way as he was ignored by the people at the time of elections. \\n\", 'This is as dramatic as it could get!  \\n', 'ThePrintIndia Your unawareness is extremely disturbing. You 50 words will not pass what recently happened to Nikita Murder Case. You are as usual shameless .\\n', 'Secularism killed more people in India than Terrorism.  \\n', 'Abolish Article 30(1); Disband Minority Commission; Streamline Waqf Board; Remove Govt control on Temples; Bring UCC/NRC; Unrecognise Madarsas as educational institution; Ask AMU/Jamia to follow rules to remain Central Universities.\\n', 'Nikita Murder Case Its a daylight killing by two hardcore criminals, simple &amp; straight. These 2 should be hanged- legal system has to deliver and political system should not look at this as an opportunity.\\n', 'Whether accused is tauseef Or sandeep, if they are criminal, they must punished Stop mixing communalism with crime because criminal has no caste no religion. \\n', 'There is evidence There is a confession There is everything for a strong case Yet. There is no outrage like Hathras Case  ,There is no march There is no Twittter storm.\\n', 'Its crazy that people are just raising voice for Nikita Murder Case because the accused belongs to a particular religion, but are not raising voice against millions of other murders and crimes against women which happen everytime.\\n', 'Why not the same reporting for this issue ? Why outrage not similar to Hathras case ? Why this hypocrisy? Can those so called intellectual people answer now ? \\n', \"Nikita Tomar murder: Protesters turn violent, clash with police after 'mahapanchayat' in Ballabhgarh .\\n\", 'In India, Justice is only served to the  Accused while Imprisonment is sentenced to the Innocent.  \\n', 'First France Terror Attack and now Vienna. Islamic Terrorist are making world hell. \\n', 'You welcomed refugees, now you are refugees in your own country.\\n', 'Turkey is on the verge to become new Iran, Iraq, Afg, Terroristhan, Syria, Libya and Erdogan should be punished like the one who where ruling then once. \\n', \"Don't Fight, don't waste time.. Just Behead.\\n\", 'Earlier France Terror Attack , now Vienne . These peaceful refugees should never be given shelter. Bring NRC, throw these bangladeshi &amp; rohangiyas out of india. \\n', 'we are living with ISIS sleeper cells everywhere. when low in number they play victim card. when in majority they commit genocide.\\n', 'Protest in Bangladesh ! Protests rising up across the globe against Genocide of Muslims!\\n', 'French defence forces have killed 50 terrorists in Mail, Africa giving a deadly blow to Al Qaeda  And in Vienna, multiple terrorist attack a synagogue and a night out place killing 2 people and injuring 15 .\\n', 'At UN Human Rights How come such people head a Government where the Head of the Government is espousing path of violence, hatred, killings and terrorism in sync with Islamic Jihad ? Should Turkey not be expelled ? \\n', 'What a disgrace. Countries giving refuge are being attacked by thankless jihadis. I say a build a wall and keep these uncivilised pigs out .\\n', ' Hate ,hate and more hate all around the world ! As if COVID19 wasnt enough .\\n', 'This person with his anti-Christian discourse supports Islamic fundamentalism. All Europeans must turn against him, he needs a strong lesson this fascist.\\n', 'Turkey steals Afrin olive trees Turkey is a looting, occupying, terrorist, inhuman and mafia regime. \\n', \"Attacks by Islamic Terrorist is the biggest proof that Europe should ban this religion within EU. love and hate don't walk along.\\n\", 'Why these people are behaving like animals. \\n', 'beheading in France beheading of KamleshTiwari in India.\\n', 'Europe is under Attack! \\n', 'If i was head of country i will order to burn alive the rapists and terrorists.  \\n', 'Islam needs to Rectify. Or else be  ready for bloodshed in Whole world  Because, those who extremists they killed innocent people  Those who are Secular muslims, they Whitewash their crimes.\\n', \"This is more than a US Elections , it's a IQ-test. Just how dumb and ignorant are you when you vote? \\n\", 'Based on the Economist current poll simulations and betting odds average, there is 31% probabality of Trump losing the US Elections 2020 in the first place, not accepting the result and finally staying in the White House !\\n', \"Another cracking column: Trump will lose on Tuesday, but he'll leave behind a divided and deeply distrustful core of followers. And that's a problem for America's democratic institutions.\\n\", \"The news story is about Trump supporters using the threat of violence &amp; dangerous driving to force Biden campaign bus of the road. The Preisent's tweet should be seen as short of condoning violence. It will get worse. \\n\", \"White Americans are straight and harsh when they go against someone.  The choice is simple: if you're American, Vote for real DonaldTrump. \\n\", 'Calling Joe Biden his \"brother,\" Barack Obama has accused Donald Trump of failing to take the coronavirus pandemic and the presidency seriously.\\n', 'The Department of Foreign Affairs and Trade issued a warning to Australians on Friday not to travel to the United States citing a cpotential for violence in the coming days and weeks.\\n', 'Jimmy Carter lost the re-election to Reagan in 1980. George Bush Sr to Clinton in 1992. \\n', 'The Australian government (through DFAT) has warned its citizens not to travel to the US because of likely civil unrest around the election. That is pretty troubling. \\n', \"Covid has killed 4 times as many Americans in just 9 months, as all Americans killed in combat in the entire Vietnam War.   47,434 Trump didn't serve then.   229,686 (JHU) Trump hasn't served now.  It's Time to Dump Trump!\\n\", 'America, do you really want to have another 4 years of this awful, lying, corrupt, selfish and sickening GARBAGE for your president,. I can NOT believe that, ... if You do, You will loose your self and the world big time.\\n', \"I think Joe Biden might as well give up the election because someone in a church already gifted the win to Donald Trump --- do you have any idea how damaging it is to the image of the church as a whole if such predictions don't turn out to be true? \\n\", 'You know things are bad when DFAT is issuing warnings NOT to travel the USA.COVID and US Elections 2020 equal badness...\\n', 'No surprise that world-class misfit, sociopath Trump is encouraging his cultists to violence, calling terrorism \"hot\".   His loyal crowd is made up of Q freaks, racists &amp; armed, foul-mouthed losers. \\n', 'Translated...Trump is a fascist who incites thugs .  \\n', 'Donald J. Trump may just pull off the unthinkable--again.\\n', 'Anyone else \"poll shy\"?\\n', 'I was one of few who made 2016 prediction publicly (see https://t.co/q5NQgNAkxP).  I will do it aga…\\n', \"SenTinaSmith With all due respect, I don't want to hear it! Mental Health Pros spent the past 5yrs WARNING Congress+the…\\n\", \"About half of all Republicans believe President Donald Trump 'rightfully won' the U.S. election but that it was stolen from hi…\\n\", 'What #DonaldTrump told us about the good, bad and ugly aspects of the USA #USElectionResults2020 https://t.co/3adcBwbiCK via @ScrollGlobal\\n', \"Donald Trump's new strategy in one sentence:\\n\", \"Don't count Black people's votes.\\n\", 'I have never seen anyone lose in Court as often as Donald Trump (#BiggestLoser) has the last few weeks. It is unpreceden…\\n', 'Donald Trump’s lies are starting to get downright scary. Democrats did not try and steal the election. Same ballot identif…\\n', 'It’s irresponsible &amp; dangerous for the USA to give Donald J. Trump two more months to exploit the office of the president to bu…\\n', 'Feb 11 - Rule of law is dead, and not 1 GOP member of Congress had a problem with this below.\\n', '\\n', '\\n', 'DY Chandrachud is a flight attendant serving champagne to first class passengers after they re fast tracked through\\n', 'Thanks for the immense support Kangana ji You re like a sister from another gaumata\\n', 'Uddhav Thackeray must ve realised now that there is no one more powerful than Amit Shahji Not just media people li\\n', 'I ve gotten bail finally Thank you Sarsanghchalak Chandrachud ji and our master Amit Shah ji\\n', 'BJP is winning and I m stuck in jail Missing out on this one in a million chance to bark loudly and scream at the\\n', 'Beautiful ad More of such weddings should happen in this country for real Then only will India be\\n', 'My dear priend Do lund Trump and Melania Trump test positive for coronavirus and enter quarantine\\n', '  And then we were three Arriving Jan 2021\\n', 'Hindi is not and will never be our national language Watch Gnani Sankaran a Tamil writer and journalist perfectl\\n', 'Kerala police salutes the inimitable spirit of the locals of Malappuram involved in the Karipur rescue Kerala poli\\n', 'Who do you think should form the next government in India MOTN2020\\n', 'When one cow son tried to mess with a mallu comrade\\n', 'Bigotry or progressive politics Choice is yours\\n', 'Choose your future Courtesy Maitreya Maitreyan RamMandir\\n', 'Call him thief corrupt politician or whatever you like but Lalu Prasad Yadav is one of the finest secular leaders\\n', '  The secret deal Rajiv Gandhi made with the RSS An excerpt from The RSS And the Making of the Deep Nation by Dinesh N\\n', 'CongRSS for you\\n', 'I will be self quarantining because I was licking Amit Shahji s feet just yesterday Will miss you all\\n', 'Will meet my boss\\n', 'Blo0dy antinational\\n', '\\n', ' Suspension of by is uncalled for attack on his FoE guaranteed by article 19 of Indian Constitution\\n', '  Dear this is the second time you have suspended one of the most informative and decent Twitter handles\\n', '  I am a fan of knowledge and depth on historical issues I am shocked to learn that his account has been suspende\\n', '  IND BringBackTrueIndology\\n', '  Twitter\\n', '  So what exactly did TI do this time Hurt someone by giving evidence By stating facts BringBackTrueIndology\\n', '  BringBackTrueIndology\\n', '  IND Hey this is the second time you have unreasonably suspended one of the most informative and decent Twit\\n', '  Breaking Bangladeshi cricket Shakib al Hasan forced to apologise for attending Kali Pujo in Kolkata fearing death threats\\n', 'Liberty Democracy freedom you know Who is in majority there\\n', '  Because the Largest Minority Community chose the Hyderabadi Party The same Hyderabadi party whose sole purpose is t\\n', '  KBC Big Boss TRP down by 50 Kapil Sharma Show down by 40 Laxmii most hated film since Sadak 2 Mera desh badal ra\\n', '  com From whitewashing Islamist violence to plain denial and rewriting history Swara Bhasker has come a long way\\n', '  My son Aarav is an a hole he keeps replaying that clip from my film Jaan where I m kissing around a man s nipple t\\n', 'Real bullydawood\\n', 'Minorites mostly elect minorities only still the victim card never stops\\n', 'Ignoramus\\n', '  Jawahar is an Arabic word for jewel No Pandit worth his salt will ever give an Arabic name to his son\\n', '  Don t cry that one is given bail and other not While crying do not forget to disclose the charges that they are book\\n', '  com Manmohan Singh was chosen by Sonia to become PM as he posed no threat to Rahul Gandhi says Obama s book\\n', '\\n', ' The Republican Party is made up of tens of millions of voters whose single issue is defending President Donald Trump. Th…\\n', 'I mean... is anyone really surprised that Donald Trump is trying to force himself on us even after we said no?\\n', ' The only thing becoming clearer with all these “lawsuits” is just how brutally Joe Biden kicked incumbent Donald Trump’s a…\\n', ' I’m going to say what many are afraid to say: Donald Trump has won the November 3rd elections by a landslide! The machine…\\n', ' Some people think that Donald Trump is bat shit crazy. Other people think that he is the dumbest fuck on the planet.\\n', '\\n', ' Also unbelievable is the fact that as a PANDEMIC ravages the nation the ONLY thing Donald Tru…\\n', ' Donald Trump will go down in history not just as a racist, sexist, xenophobe and religious bigot. He will be remembered…\\n', ' Donald Trump talked about ”drain the swamp” in 2016, he has now become the worst of them all by ig\\n', ' It’s irresponsible &amp; dangerous for the USA to give Donald J. Trump two more months to exploit the office of the president to bu…\\n', ' Donald Trump wouldn’t know the truth if Skinny Joey took a dead fish and smacked him in the face with it.\\n', '\\n', ' Donald Trump is letting his fragile ego endanger Americans. He needs to stop this childish tantrum, accept his loss, an…\\n', ' So farid just randomly asked me::: “why donald trump tak dibenarkan masuk white house “\\n', '\\n', 'Because it’s forbiden. get it…\\n', 'Stephen Colbert Trolls T**** With A Subtle Omission From His Monologue \\n', 'The only thing becoming clearer with all these “lawsuits” is just how brutally Joe Biden kicked incumbent Donald Trump’s a…\\n', 'realDonaldTrump justin_hart Donald Trump told his supporters NOT to vote by mail, it was fraudulent. Now he’s crying fr…\\n', 'RT StevenBeschloss: A quarter of a million dead Americans, and Donald Trump has succeeded in turning public health guidelines into partisa…\\n', 'I can’t take this anymore I got on Twitter just to find out what Donald Trump was saying now it makes me too sick t…\\n', 'tomgara After pressure from Dirty Donald Trump, pathetic. Biden won and nothing is going to change that?\\n', '\\n', '\\n', 'They didn’t even allow Republican Observers into the building to watch. A terrible insult to our Constitution!\\n', 'Wow! Michigan just refused to certify the election results!\\n', 'No one is safe from COVID-19 until everyone is safe.\\n', \"I know Mark Cuban well. He backed me big-time but I wasn't interested in taking all of his calls.He's not smart enough to run for president\\n\", 'My biggest problem is overthinking everything.\\n', 'I cannot make you understand. I cannot make anyone understand what is happening inside me. I cannot even explain it to myself.\\n', \"The worst feeling is when something is killing you inside, and you have to act like you don't care.\\n\", \"I'm disappointed in myself because i know i'm better than the choices i keep making and the things i choose to deal with.\\n\", \"Oh no, I get headaches when I don't drink coffee first thing in the morning. \\n\", 'REMOVING COPS FROM BEHAVIORAL CRISIS CALLS: WE NEED TO CHANGE THE MODEL.\\n', 'I PUSHED THROUGH THE PAIN AND HID EVERYTHING UNDER A CLOAK OF SMILES AND LAUGHS.\\n', 'I WAS NO LONGER THAT GIRL WHO HAD DREAMS...I WAS BROKEN BEYOND REPAIR.\\n', 'ON THE OUTSIDE, WHAT COULD POSSIBLY BE WRONG? YET ON THE INSIDE, EVERYTHING WAS WRONG.\\n', 'Oregon voters have taken a big step toward ending the war on drugs.\\n', 'Worst railway service 31421 sdah-nh local running 35 late after 30 min journey with our any fog.\\n', 'Train no 31769 started from ranaghat now. Comt. filled with garbage. Did not clean it regularly.\\n', 'No guard for 30 min train, 31927 emu local delayed. What a poor service at temp 38 degrees.\\n', 'There is lightning in the area. The current storm threat is: some_lightning.\\n', 'What would make a government official return a bribe? \\n', 'In the past two weeks, the number of cases of #COVID19 outside 🇨🇳 has increased 13-fold & the number of affected countries has tripled. \\n', 'How long will protection last? Since both the virus & vaccine are so new, we don’t know how long vaccine protection will last. Participants will be followed for at least two years to learn about duration of immunity.\\n', 'So this is life in suspended  animation. Spent half the day snipping and glueing  a cheap box of disposable tissues.  Loosing my marbles and not really missing them.\\n', 'Aimless protest  for daily wages of 500/700 rupee per day, Indian muslims not having any kind of relevance with CAA.\\n', 'Pandemic has made our lives worst!\\n', 'Stress hormones damage the hippocampus—the memory center in the brain—causing memory loss and dementia. \\n', 'Did you know that 90% of Americans are deficient in one or more nutrients at the minimum level? \\n', '  \\n', '\\n', '\\n', '\\n', '\\n', '\\n', '\\n', 'Nearly forty million people have Alzheimer’s or dementia today. \\n', 'We have no way to stop or even slow the disease.\\n', 'The COVID-19 pandemic has set back efforts to end poverty, hunger, and malnutrition.\\n', 'No one is safe from COVID-19 until everyone is safe.\\n', 'We can’t afford to be complacent. Not this time. Not in this election.\\n', 'COVID-19 is not just a health crisis—it is also now a food crisis.\\n', 'India’s research and manufacturing capacity are critical for fighting COVID-19.\\n', 'A terrible insult to our Constitution! \\n', 'Not this time. Not in this election.\\n', 'Blocking you, you don’t deserve my light.\\n', 'Sick n tired of being treated like a slave in my own country, we can’t celebrate our festivals.\\n', 'When they don’t have answers to your questions they break your house, put you in jail.\\n', 'The number of new #COVID19 cases being reported globally continues to rise with almost 4 million new cases\\n', 'Me contributing my best to noise and poisonous smoke pollution of HAPPY DIWALI\\n', 'Have an unsafe Diwali breathing in the sulphur phosphate fumes , bombs making ur ears go deaf.\\n', \"It's simply abuse of power. IPS officers are appointed as public servant but they seem to be more busy settling personal ego issues.\\n\", '=======\\n', 'Even a small degree of carelessness will have adverse impacts.  \\n', 'COVID-19 is not just a health crisis—it is also now a food crisis.\\n', ' No one is safe from COVID-19 until everyone is safe.\\n', 'Our beloved and respected Keshubhai has passed away…I am deeply pained and saddened.\\n', ' India’s research and manufacturing capacity are critical for fighting COVID-19.\\n', ' The COVID-19 pandemic has set back efforts to end poverty, hunger, and malnutrition.\\n', ' You just can’t have more votes than people!.\\n', 'Fighting elections in an alliance is also anti-national now.\\n', 'Earlier BJPs narrative was that the tukde tukde gang threatened India’s sovereignty.\\n', 'Jammu’s Back To Village Programme: A Tale of Failure and Disappointment\\n', \"Don't count Black people's votes.\\n\", 'Nearly forty million people have Alzheimer’s or dementia today.\\n', 'Constitution espouses individual dignity, diversity & social justice. When Sangh praises Constitution it never talks of these essential values because it wants an India where 1 religion & identity is supreme.\\n', 'Indian Congress party is literally being erased from every state due to its own fault and incompetence but the party is behaving immaturely by blaming others for its loss.\\n', 'Our PM teaches India how to run from the truth. Millions of people have lost their dignity and livelihoods as a result.\\n', 'The state and central governments are playing a blame-game while Covid is spreading rapidly.\\n', 'Unbelievable cruelty.\\n', 'Deeply shocked and saddened by the dastardly terror attacks in Vienna. \\n', 'I am saddened beyond words. There is a void in our nation that will perhaps never be filled.\\n', 'These men ‘punished’ her for resisting molestation.\\n', 'Enough is enough i want to call every muslim in the world to come out and fight against this fascist government.\\n', \"MEAIndia's stated policy in Parliament is that India raises the issue of mistreated minorities with govts of foreign countries.\\n\", 'How to completely destroy an economy and infect the maximum number of people really quickly.\\n', 'Their leaders divided them internally and let their countries become battlegrounds between the dominant powers of their time.\\n', 'The shameful truth is many Indians don’t consider Dalits, Muslims and Tribals to be human.\\n', 'This is the filthy RSS male chauvinist mentality at work. \\n']\n"
     ]
    }
   ],
   "source": [
    "neg_tweets = open(\"negative.json\",\"r\",encoding = 'utf-8')\n",
    "negative_tweets_list = []\n",
    "for tweet in neg_tweets:\n",
    "    negative_tweets_list.append(tweet)\n",
    "print(negative_tweets_list)"
   ]
  },
  {
   "cell_type": "code",
   "execution_count": 29,
   "metadata": {},
   "outputs": [
    {
     "name": "stdout",
     "output_type": "stream",
     "text": [
      "223\n",
      "<class 'list'>\n"
     ]
    }
   ],
   "source": [
    "print(len(negative_tweets_list))\n",
    "print(type(negative_tweets_list))"
   ]
  },
  {
   "cell_type": "code",
   "execution_count": 24,
   "metadata": {},
   "outputs": [
    {
     "name": "stdout",
     "output_type": "stream",
     "text": [
      "271\n"
     ]
    }
   ],
   "source": [
    "print(len(positive_tweets_list))"
   ]
  },
  {
   "cell_type": "code",
   "execution_count": 34,
   "metadata": {},
   "outputs": [
    {
     "name": "stderr",
     "output_type": "stream",
     "text": [
      "[nltk_data] Downloading package twitter_samples to\n",
      "[nltk_data]     C:\\Users\\shobh\\AppData\\Roaming\\nltk_data...\n",
      "[nltk_data]   Package twitter_samples is already up-to-date!\n"
     ]
    }
   ],
   "source": [
    "nltk.download('twitter_samples')\n",
    "all_pos_tweets = twitter_samples.strings('positive_tweets.json')\n",
    "all_neg_tweets = twitter_samples.strings('negative_tweets.json')\n"
   ]
  },
  {
   "cell_type": "code",
   "execution_count": 122,
   "metadata": {},
   "outputs": [],
   "source": [
    "#print(all_pos_tweets[4000:])"
   ]
  },
  {
   "cell_type": "code",
   "execution_count": 56,
   "metadata": {},
   "outputs": [],
   "source": [
    "test_pos = positive_tweets_list[:]\n",
    "train_pos = all_pos_tweets[:3500]\n",
    "test_neg = negative_tweets_list[:]\n",
    "train_neg = all_neg_tweets[:3500]\n",
    "\n",
    "test_data_x = test_pos + test_neg\n",
    "train_data_x = train_pos + train_neg\n"
   ]
  },
  {
   "cell_type": "code",
   "execution_count": 47,
   "metadata": {},
   "outputs": [],
   "source": [
    "train_y = np.append(np.ones((len(train_pos), 1)), np.zeros((len(train_neg), 1)), axis=0)\n",
    "test_y = np.append(np.ones((len(test_pos), 1)), np.zeros((len(test_neg), 1)), axis=0)"
   ]
  },
  {
   "cell_type": "code",
   "execution_count": 48,
   "metadata": {},
   "outputs": [
    {
     "name": "stdout",
     "output_type": "stream",
     "text": [
      "train_y.shape = (7000, 1)\n",
      "test_y.shape = (494, 1)\n"
     ]
    }
   ],
   "source": [
    "print(\"train_y.shape = \" + str(train_y.shape))\n",
    "print(\"test_y.shape = \" + str(test_y.shape))"
   ]
  },
  {
   "cell_type": "code",
   "execution_count": 50,
   "metadata": {},
   "outputs": [],
   "source": [
    "# Preprocessing the data "
   ]
  },
  {
   "cell_type": "code",
   "execution_count": 78,
   "metadata": {},
   "outputs": [],
   "source": [
    "import re\n",
    "import string\n",
    "\n",
    "from nltk.corpus import stopwords\n",
    "from nltk.stem import PorterStemmer\n",
    "from nltk.tokenize import TweetTokenizer"
   ]
  },
  {
   "cell_type": "code",
   "execution_count": 52,
   "metadata": {},
   "outputs": [
    {
     "name": "stderr",
     "output_type": "stream",
     "text": [
      "[nltk_data] Downloading package stopwords to\n",
      "[nltk_data]     C:\\Users\\shobh\\AppData\\Roaming\\nltk_data...\n",
      "[nltk_data]   Unzipping corpora\\stopwords.zip.\n"
     ]
    },
    {
     "data": {
      "text/plain": [
       "True"
      ]
     },
     "execution_count": 52,
     "metadata": {},
     "output_type": "execute_result"
    }
   ],
   "source": [
    "nltk.download('stopwords')"
   ]
  },
  {
   "cell_type": "code",
   "execution_count": 67,
   "metadata": {},
   "outputs": [],
   "source": [
    "train_data_clean = []\n",
    "for tweet in train_data_x:\n",
    "    tweet2 = re.sub(r'RT[\\s]+','',tweet)\n",
    "    tweet2 = re.sub(r'https?:\\/\\/.*[\\r\\n]*', '', tweet2)\n",
    "    tweet2 = re.sub(r'#', '', tweet2)\n",
    "    train_data_clean.append(tweet2)\n"
   ]
  },
  {
   "cell_type": "code",
   "execution_count": 69,
   "metadata": {},
   "outputs": [],
   "source": [
    "test_data_clean = []\n",
    "for tweet in test_data_x:\n",
    "    tweet2 = re.sub(r'RT[\\s]+','',tweet)\n",
    "    tweet2 = re.sub(r'https?:\\/\\/.*[\\r\\n]*', '', tweet2)\n",
    "    tweet2 = re.sub(r'#', '', tweet2)\n",
    "    test_data_clean.append(tweet2)"
   ]
  },
  {
   "cell_type": "code",
   "execution_count": 74,
   "metadata": {},
   "outputs": [],
   "source": [
    "tokenizer = TweetTokenizer(preserve_case=False, strip_handles=True,\n",
    "                               reduce_len=True)\n",
    "test_tweet_token = []\n",
    "for tweet in test_data_clean:\n",
    "    tweet_token = tokenizer.tokenize(tweet)\n",
    "    test_tweet_token.append(tweet_token)"
   ]
  },
  {
   "cell_type": "code",
   "execution_count": 121,
   "metadata": {},
   "outputs": [],
   "source": [
    "#print(test_tweet_token)"
   ]
  },
  {
   "cell_type": "code",
   "execution_count": 76,
   "metadata": {},
   "outputs": [
    {
     "name": "stdout",
     "output_type": "stream",
     "text": [
      "#FollowFriday @France_Inte @PKuchly57 @Milipol_Paris for being top engaged members in my community this week :)\n"
     ]
    }
   ],
   "source": [
    "print(train_data_x[0])"
   ]
  },
  {
   "cell_type": "code",
   "execution_count": 77,
   "metadata": {},
   "outputs": [],
   "source": [
    "# writing a function to process the tweets :)"
   ]
  },
  {
   "cell_type": "code",
   "execution_count": 89,
   "metadata": {},
   "outputs": [],
   "source": [
    "def process_tweets(tweet):\n",
    "    \n",
    "    stemmer = PorterStemmer() \n",
    "    stopwords_eng = stopwords.words('english')\n",
    "    tweet = re.sub(r'\\$\\w*', '', tweet)\n",
    "    tweet = re.sub(r'^RT[\\s]+', '', tweet)\n",
    "    tweet = re.sub(r'https?:\\/\\/.*[\\r\\n]*', '', tweet)  #removing the hyperlinks\n",
    "    tweet = re.sub(r'#', '', tweet)\n",
    "    \n",
    "    tokenizer = TweetTokenizer(preserve_case = False, strip_handles = True,reduce_len = True) #tokenize tweet function\n",
    "    \n",
    "    tweet_tokens = tokenizer.tokenize(tweet)\n",
    "    \n",
    "    tweet_clean = []\n",
    "    \n",
    "    for word in tweet_tokens:\n",
    "        \n",
    "        if(word not in stopwords_eng and word not in string.punctuation): #removing stops words and punctuation\n",
    "            \n",
    "            stem_words = stemmer.stem(word)\n",
    "            tweet_clean.append(stem_words)\n",
    "            \n",
    "    return tweet_clean\n",
    "    "
   ]
  },
  {
   "cell_type": "code",
   "execution_count": 90,
   "metadata": {},
   "outputs": [],
   "source": [
    "def building_freqs(tweets,ys):\n",
    "    \n",
    "    yslist = np.squeeze(ys).tolist()  #squeezing the array into a list\n",
    "    \n",
    "    freqs = {}\n",
    "    for y,tweet in zip(yslist,tweets):\n",
    "        for word in process_tweets(tweet):\n",
    "            pair = (word,y)\n",
    "            if pair in freqs:\n",
    "                freqs[pair] += 1\n",
    "            else:\n",
    "                freqs[pair] = 1\n",
    "    return freqs"
   ]
  },
  {
   "cell_type": "code",
   "execution_count": 91,
   "metadata": {},
   "outputs": [],
   "source": [
    "freqs = building_freqs(train_data_x,train_y)"
   ]
  },
  {
   "cell_type": "code",
   "execution_count": 92,
   "metadata": {},
   "outputs": [
    {
     "name": "stdout",
     "output_type": "stream",
     "text": [
      "type(freqs) = <class 'dict'>\n",
      "len(freqs) = 10350\n"
     ]
    }
   ],
   "source": [
    "print(\"type(freqs) = \" + str(type(freqs)))\n",
    "print(\"len(freqs) = \" + str(len(freqs.keys())))"
   ]
  },
  {
   "cell_type": "code",
   "execution_count": 94,
   "metadata": {},
   "outputs": [
    {
     "name": "stdout",
     "output_type": "stream",
     "text": [
      "['followfriday', 'top', 'engag', 'member', 'commun', 'week', ':)']\n"
     ]
    }
   ],
   "source": [
    "print(process_tweets(train_data_x[0]))"
   ]
  },
  {
   "cell_type": "code",
   "execution_count": 95,
   "metadata": {},
   "outputs": [],
   "source": [
    "# here comes the logistic regression part -->(refrenced from google)"
   ]
  },
  {
   "cell_type": "code",
   "execution_count": 96,
   "metadata": {},
   "outputs": [],
   "source": [
    "# sigmoid function\n",
    "\n",
    "def sigmoid(z):\n",
    "    \n",
    "    h = 1/(1 + np.exp(-z))\n",
    "    \n",
    "    return h"
   ]
  },
  {
   "cell_type": "code",
   "execution_count": 97,
   "metadata": {},
   "outputs": [],
   "source": [
    "# cost function and gradient function\n",
    "\n",
    "def gradientDescent(x,y,theta,alpha,num_iters):\n",
    "    \n",
    "    m = x.shape[0]\n",
    "    for i in range(0,num_iters):\n",
    "        \n",
    "        z = np.dot(x,theta)\n",
    "        h = sigmoid(z)\n",
    "        \n",
    "        \n",
    "        J = -1./m * (np.dot(y.transpose(), np.log(h)) + np.dot((1-y).transpose(),np.log(1-h)))                                                    \n",
    "\n",
    "       \n",
    "        theta = theta - (alpha/m) * np.dot(x.transpose(),(h-y))\n",
    "        \n",
    "    J = float(J)\n",
    "    return J, theta\n",
    "        "
   ]
  },
  {
   "cell_type": "code",
   "execution_count": 98,
   "metadata": {},
   "outputs": [],
   "source": [
    "# extracting features\n",
    "\n",
    "def extract_features(tweet,freqs):\n",
    "    \n",
    "    word_l = process_tweets(tweet)\n",
    "    x = np.zeros((1,3))\n",
    "    \n",
    "    x[0,0] = 1\n",
    "    \n",
    "    for word in word_l:\n",
    "        \n",
    "        x[0,1] += freqs.get((word,1.0),0)  # incrementing the word count for +ve word labels\n",
    "        \n",
    "        x[0,2] += freqs.get((word,0.0),0)  # incrementing the word count for -ve word labels\n",
    "        \n",
    "        \n",
    "    assert(x.shape==(1,3))\n",
    "    return x"
   ]
  },
  {
   "cell_type": "code",
   "execution_count": 99,
   "metadata": {},
   "outputs": [
    {
     "name": "stdout",
     "output_type": "stream",
     "text": [
      "[[1.000e+00 2.663e+03 5.500e+01]]\n"
     ]
    }
   ],
   "source": [
    "#checking the function\n",
    "tmp1 = extract_features(train_data_x[0], freqs)\n",
    "print(tmp1)"
   ]
  },
  {
   "cell_type": "code",
   "execution_count": 100,
   "metadata": {},
   "outputs": [],
   "source": [
    "#training the model --> hope it works :)"
   ]
  },
  {
   "cell_type": "code",
   "execution_count": 102,
   "metadata": {},
   "outputs": [
    {
     "name": "stdout",
     "output_type": "stream",
     "text": [
      "The cost after training is 0.27438442.\n",
      "The resulting vector of weights is [7e-08, 0.00050449, -0.00055522]\n"
     ]
    }
   ],
   "source": [
    "X = np.zeros((len(train_data_x),3))\n",
    "for i in range(len(train_data_x)):\n",
    "    \n",
    "    X[i,:] = extract_features(train_data_x[i],freqs)\n",
    "    \n",
    "Y = train_y\n",
    "\n",
    "J,theta = gradientDescent(X,Y,np.zeros((3,1)),1e-9,1500)\n",
    "print(f\"The cost after training is {J:.8f}.\")\n",
    "print(f\"The resulting vector of weights is {[round(t, 8) for t in np.squeeze(theta)]}\")\n"
   ]
  },
  {
   "cell_type": "code",
   "execution_count": 103,
   "metadata": {},
   "outputs": [],
   "source": [
    "# the orcale(predicting function :))"
   ]
  },
  {
   "cell_type": "code",
   "execution_count": 105,
   "metadata": {},
   "outputs": [],
   "source": [
    "def predict_tweet(tweet,freqs,theta):\n",
    "    \n",
    "    x = extract_features(tweet,freqs)\n",
    "    \n",
    "    y_pred = sigmoid(np.dot(x,theta))\n",
    "    \n",
    "    return y_pred"
   ]
  },
  {
   "cell_type": "code",
   "execution_count": 106,
   "metadata": {
    "scrolled": true
   },
   "outputs": [
    {
     "name": "stdout",
     "output_type": "stream",
     "text": [
      "I am happy -> 0.514789\n",
      "I am bad -> 0.494964\n",
      "this movie should have been great. -> 0.512620\n",
      "great -> 0.512810\n",
      "great great -> 0.525604\n",
      "great great great -> 0.538364\n",
      "great great great great -> 0.551073\n"
     ]
    }
   ],
   "source": [
    "for tweet in ['I am happy', 'I am bad', 'this movie should have been great.', 'great', 'great great', 'great great great', 'great great great great']:\n",
    "    print( '%s -> %f' % (tweet, predict_tweet(tweet, freqs, theta)))"
   ]
  },
  {
   "cell_type": "code",
   "execution_count": 108,
   "metadata": {},
   "outputs": [],
   "source": [
    "# performance check --> hope it is better than my college cgpa :)"
   ]
  },
  {
   "cell_type": "code",
   "execution_count": 116,
   "metadata": {},
   "outputs": [],
   "source": [
    "def testing_logistic_regression(test_data_x,test_y,freqs,theta):\n",
    "    \n",
    "    y_hat = []\n",
    "    \n",
    "    for tweet in test_data_x:\n",
    "        \n",
    "        y_pred = predict_tweet(tweet,freqs,theta)\n",
    "        if y_pred > 0.5:\n",
    "            y_hat.append(1)  # positive tweet\n",
    "        else:\n",
    "            y_hat.append(0)  # negative tweet\n",
    "            \n",
    "    \n",
    "    #accuracy of the model\n",
    "    \n",
    "    accuracy = (y_hat==np.squeeze(test_y)).sum()/len(test_data_x)\n",
    "    \n",
    "    return accuracy\n",
    "    "
   ]
  },
  {
   "cell_type": "code",
   "execution_count": 119,
   "metadata": {},
   "outputs": [
    {
     "name": "stdout",
     "output_type": "stream",
     "text": [
      "Logistic regression model's accuracy = 0.5466\n"
     ]
    }
   ],
   "source": [
    "tmp_accuracy = testing_logistic_regression(test_data_x, test_y, freqs, theta)\n",
    "print(f\"Logistic regression model's accuracy = {tmp_accuracy:.4f}\")"
   ]
  },
  {
   "cell_type": "code",
   "execution_count": null,
   "metadata": {},
   "outputs": [],
   "source": []
  },
  {
   "cell_type": "code",
   "execution_count": null,
   "metadata": {},
   "outputs": [],
   "source": []
  }
 ],
 "metadata": {
  "kernelspec": {
   "display_name": "Python 3",
   "language": "python",
   "name": "python3"
  },
  "language_info": {
   "codemirror_mode": {
    "name": "ipython",
    "version": 3
   },
   "file_extension": ".py",
   "mimetype": "text/x-python",
   "name": "python",
   "nbconvert_exporter": "python",
   "pygments_lexer": "ipython3",
   "version": "3.7.0"
  }
 },
 "nbformat": 4,
 "nbformat_minor": 4
}
